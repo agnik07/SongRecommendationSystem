{
 "cells": [
  {
   "cell_type": "code",
   "execution_count": 3,
   "id": "7572c179-4e4b-4443-a288-b1d535e33df2",
   "metadata": {},
   "outputs": [],
   "source": [
    "import pandas as pd"
   ]
  },
  {
   "cell_type": "code",
   "execution_count": 4,
   "id": "bf9d6d94-4175-4652-92b2-341bfd901cad",
   "metadata": {},
   "outputs": [],
   "source": [
    "df=pd.read_csv(\"spotify_millsongdata.csv\")"
   ]
  },
  {
   "cell_type": "code",
   "execution_count": 5,
   "id": "e52240cc-4e96-46c5-b245-dd03ca8b0cdc",
   "metadata": {},
   "outputs": [
    {
     "data": {
      "text/html": [
       "<div>\n",
       "<style scoped>\n",
       "    .dataframe tbody tr th:only-of-type {\n",
       "        vertical-align: middle;\n",
       "    }\n",
       "\n",
       "    .dataframe tbody tr th {\n",
       "        vertical-align: top;\n",
       "    }\n",
       "\n",
       "    .dataframe thead th {\n",
       "        text-align: right;\n",
       "    }\n",
       "</style>\n",
       "<table border=\"1\" class=\"dataframe\">\n",
       "  <thead>\n",
       "    <tr style=\"text-align: right;\">\n",
       "      <th></th>\n",
       "      <th>artist</th>\n",
       "      <th>song</th>\n",
       "      <th>link</th>\n",
       "      <th>text</th>\n",
       "    </tr>\n",
       "  </thead>\n",
       "  <tbody>\n",
       "    <tr>\n",
       "      <th>0</th>\n",
       "      <td>ABBA</td>\n",
       "      <td>Ahe's My Kind Of Girl</td>\n",
       "      <td>/a/abba/ahes+my+kind+of+girl_20598417.html</td>\n",
       "      <td>Look at her face, it's a wonderful face  \\r\\nA...</td>\n",
       "    </tr>\n",
       "    <tr>\n",
       "      <th>1</th>\n",
       "      <td>ABBA</td>\n",
       "      <td>Andante, Andante</td>\n",
       "      <td>/a/abba/andante+andante_20002708.html</td>\n",
       "      <td>Take it easy with me, please  \\r\\nTouch me gen...</td>\n",
       "    </tr>\n",
       "    <tr>\n",
       "      <th>2</th>\n",
       "      <td>ABBA</td>\n",
       "      <td>As Good As New</td>\n",
       "      <td>/a/abba/as+good+as+new_20003033.html</td>\n",
       "      <td>I'll never know why I had to go  \\r\\nWhy I had...</td>\n",
       "    </tr>\n",
       "    <tr>\n",
       "      <th>3</th>\n",
       "      <td>ABBA</td>\n",
       "      <td>Bang</td>\n",
       "      <td>/a/abba/bang_20598415.html</td>\n",
       "      <td>Making somebody happy is a question of give an...</td>\n",
       "    </tr>\n",
       "    <tr>\n",
       "      <th>4</th>\n",
       "      <td>ABBA</td>\n",
       "      <td>Bang-A-Boomerang</td>\n",
       "      <td>/a/abba/bang+a+boomerang_20002668.html</td>\n",
       "      <td>Making somebody happy is a question of give an...</td>\n",
       "    </tr>\n",
       "  </tbody>\n",
       "</table>\n",
       "</div>"
      ],
      "text/plain": [
       "  artist                   song                                        link  \\\n",
       "0   ABBA  Ahe's My Kind Of Girl  /a/abba/ahes+my+kind+of+girl_20598417.html   \n",
       "1   ABBA       Andante, Andante       /a/abba/andante+andante_20002708.html   \n",
       "2   ABBA         As Good As New        /a/abba/as+good+as+new_20003033.html   \n",
       "3   ABBA                   Bang                  /a/abba/bang_20598415.html   \n",
       "4   ABBA       Bang-A-Boomerang      /a/abba/bang+a+boomerang_20002668.html   \n",
       "\n",
       "                                                text  \n",
       "0  Look at her face, it's a wonderful face  \\r\\nA...  \n",
       "1  Take it easy with me, please  \\r\\nTouch me gen...  \n",
       "2  I'll never know why I had to go  \\r\\nWhy I had...  \n",
       "3  Making somebody happy is a question of give an...  \n",
       "4  Making somebody happy is a question of give an...  "
      ]
     },
     "execution_count": 5,
     "metadata": {},
     "output_type": "execute_result"
    }
   ],
   "source": [
    "df.head(5)"
   ]
  },
  {
   "cell_type": "code",
   "execution_count": 6,
   "id": "342789bb-5827-4070-9093-fee195b449d0",
   "metadata": {},
   "outputs": [
    {
     "data": {
      "text/html": [
       "<div>\n",
       "<style scoped>\n",
       "    .dataframe tbody tr th:only-of-type {\n",
       "        vertical-align: middle;\n",
       "    }\n",
       "\n",
       "    .dataframe tbody tr th {\n",
       "        vertical-align: top;\n",
       "    }\n",
       "\n",
       "    .dataframe thead th {\n",
       "        text-align: right;\n",
       "    }\n",
       "</style>\n",
       "<table border=\"1\" class=\"dataframe\">\n",
       "  <thead>\n",
       "    <tr style=\"text-align: right;\">\n",
       "      <th></th>\n",
       "      <th>artist</th>\n",
       "      <th>song</th>\n",
       "      <th>link</th>\n",
       "      <th>text</th>\n",
       "    </tr>\n",
       "  </thead>\n",
       "  <tbody>\n",
       "    <tr>\n",
       "      <th>57645</th>\n",
       "      <td>Ziggy Marley</td>\n",
       "      <td>Good Old Days</td>\n",
       "      <td>/z/ziggy+marley/good+old+days_10198588.html</td>\n",
       "      <td>Irie days come on play  \\r\\nLet the angels fly...</td>\n",
       "    </tr>\n",
       "    <tr>\n",
       "      <th>57646</th>\n",
       "      <td>Ziggy Marley</td>\n",
       "      <td>Hand To Mouth</td>\n",
       "      <td>/z/ziggy+marley/hand+to+mouth_20531167.html</td>\n",
       "      <td>Power to the workers  \\r\\nMore power  \\r\\nPowe...</td>\n",
       "    </tr>\n",
       "    <tr>\n",
       "      <th>57647</th>\n",
       "      <td>Zwan</td>\n",
       "      <td>Come With Me</td>\n",
       "      <td>/z/zwan/come+with+me_20148981.html</td>\n",
       "      <td>all you need  \\r\\nis something i'll believe  \\...</td>\n",
       "    </tr>\n",
       "    <tr>\n",
       "      <th>57648</th>\n",
       "      <td>Zwan</td>\n",
       "      <td>Desire</td>\n",
       "      <td>/z/zwan/desire_20148986.html</td>\n",
       "      <td>northern star  \\r\\nam i frightened  \\r\\nwhere ...</td>\n",
       "    </tr>\n",
       "    <tr>\n",
       "      <th>57649</th>\n",
       "      <td>Zwan</td>\n",
       "      <td>Heartsong</td>\n",
       "      <td>/z/zwan/heartsong_20148991.html</td>\n",
       "      <td>come in  \\r\\nmake yourself at home  \\r\\ni'm a ...</td>\n",
       "    </tr>\n",
       "  </tbody>\n",
       "</table>\n",
       "</div>"
      ],
      "text/plain": [
       "             artist           song  \\\n",
       "57645  Ziggy Marley  Good Old Days   \n",
       "57646  Ziggy Marley  Hand To Mouth   \n",
       "57647          Zwan   Come With Me   \n",
       "57648          Zwan         Desire   \n",
       "57649          Zwan      Heartsong   \n",
       "\n",
       "                                              link  \\\n",
       "57645  /z/ziggy+marley/good+old+days_10198588.html   \n",
       "57646  /z/ziggy+marley/hand+to+mouth_20531167.html   \n",
       "57647           /z/zwan/come+with+me_20148981.html   \n",
       "57648                 /z/zwan/desire_20148986.html   \n",
       "57649              /z/zwan/heartsong_20148991.html   \n",
       "\n",
       "                                                    text  \n",
       "57645  Irie days come on play  \\r\\nLet the angels fly...  \n",
       "57646  Power to the workers  \\r\\nMore power  \\r\\nPowe...  \n",
       "57647  all you need  \\r\\nis something i'll believe  \\...  \n",
       "57648  northern star  \\r\\nam i frightened  \\r\\nwhere ...  \n",
       "57649  come in  \\r\\nmake yourself at home  \\r\\ni'm a ...  "
      ]
     },
     "execution_count": 6,
     "metadata": {},
     "output_type": "execute_result"
    }
   ],
   "source": [
    "df.tail(5)"
   ]
  },
  {
   "cell_type": "code",
   "execution_count": 7,
   "id": "d0cf171e-0f28-442d-9cf5-4954d86ae052",
   "metadata": {},
   "outputs": [
    {
     "data": {
      "text/plain": [
       "(57650, 4)"
      ]
     },
     "execution_count": 7,
     "metadata": {},
     "output_type": "execute_result"
    }
   ],
   "source": [
    "df.shape"
   ]
  },
  {
   "cell_type": "code",
   "execution_count": 8,
   "id": "06930aec-725a-4b87-bfb3-22077a0f3398",
   "metadata": {},
   "outputs": [
    {
     "data": {
      "text/plain": [
       "artist    0\n",
       "song      0\n",
       "link      0\n",
       "text      0\n",
       "dtype: int64"
      ]
     },
     "execution_count": 8,
     "metadata": {},
     "output_type": "execute_result"
    }
   ],
   "source": [
    "df.isnull().sum()"
   ]
  },
  {
   "cell_type": "code",
   "execution_count": 9,
   "id": "5a1b6265-e3d4-45a9-b0e7-053ee36bdf43",
   "metadata": {},
   "outputs": [
    {
     "name": "stdout",
     "output_type": "stream",
     "text": [
      "Index(['artist', 'song', 'link', 'text'], dtype='object')\n"
     ]
    }
   ],
   "source": [
    "print(df.columns)"
   ]
  },
  {
   "cell_type": "code",
   "execution_count": 10,
   "id": "4558359d-c23e-44de-b893-b5a6cb74520b",
   "metadata": {},
   "outputs": [],
   "source": [
    "df = df.sample(5000).drop('link', axis=1).reset_index(drop=True)"
   ]
  },
  {
   "cell_type": "code",
   "execution_count": 11,
   "id": "ff984a32-ba35-4f10-a26d-6ac03857895a",
   "metadata": {},
   "outputs": [
    {
     "data": {
      "text/html": [
       "<div>\n",
       "<style scoped>\n",
       "    .dataframe tbody tr th:only-of-type {\n",
       "        vertical-align: middle;\n",
       "    }\n",
       "\n",
       "    .dataframe tbody tr th {\n",
       "        vertical-align: top;\n",
       "    }\n",
       "\n",
       "    .dataframe thead th {\n",
       "        text-align: right;\n",
       "    }\n",
       "</style>\n",
       "<table border=\"1\" class=\"dataframe\">\n",
       "  <thead>\n",
       "    <tr style=\"text-align: right;\">\n",
       "      <th></th>\n",
       "      <th>artist</th>\n",
       "      <th>song</th>\n",
       "      <th>text</th>\n",
       "    </tr>\n",
       "  </thead>\n",
       "  <tbody>\n",
       "    <tr>\n",
       "      <th>0</th>\n",
       "      <td>Jimi Hendrix</td>\n",
       "      <td>Fire ( In Album Radio One )</td>\n",
       "      <td>Dj:  \\r\\n\"the jimi hendrix experience sounding...</td>\n",
       "    </tr>\n",
       "    <tr>\n",
       "      <th>1</th>\n",
       "      <td>Donna Summer</td>\n",
       "      <td>I Love You</td>\n",
       "      <td>From my once upon a time album  \\r\\nA song abo...</td>\n",
       "    </tr>\n",
       "    <tr>\n",
       "      <th>2</th>\n",
       "      <td>Westlife</td>\n",
       "      <td>How Does It Feel</td>\n",
       "      <td>True lovers never take it slowly  \\r\\nWhen the...</td>\n",
       "    </tr>\n",
       "    <tr>\n",
       "      <th>3</th>\n",
       "      <td>Gordon Lightfoot</td>\n",
       "      <td>Ring Them Bells</td>\n",
       "      <td>Ring them bells ye heathen from the city that ...</td>\n",
       "    </tr>\n",
       "    <tr>\n",
       "      <th>4</th>\n",
       "      <td>Neil Diamond</td>\n",
       "      <td>I'm Nobody's Fool</td>\n",
       "      <td>I know your kind, you pick a girl (guy)  \\r\\nT...</td>\n",
       "    </tr>\n",
       "    <tr>\n",
       "      <th>5</th>\n",
       "      <td>U2</td>\n",
       "      <td>Lemon</td>\n",
       "      <td>See through in the sunlight  \\r\\nShe wore lemo...</td>\n",
       "    </tr>\n",
       "    <tr>\n",
       "      <th>6</th>\n",
       "      <td>Ella Fitzgerald</td>\n",
       "      <td>Chew Chew Chew (Your Bubble Gum)</td>\n",
       "      <td>If you're idle and lonesome too  \\r\\nDon't kno...</td>\n",
       "    </tr>\n",
       "    <tr>\n",
       "      <th>7</th>\n",
       "      <td>Offspring</td>\n",
       "      <td>No Hero</td>\n",
       "      <td>Once you said you'd stick to it until the end ...</td>\n",
       "    </tr>\n",
       "    <tr>\n",
       "      <th>8</th>\n",
       "      <td>Zero 7</td>\n",
       "      <td>Swing</td>\n",
       "      <td>Thought you'd be forever the same  \\r\\nWhen di...</td>\n",
       "    </tr>\n",
       "    <tr>\n",
       "      <th>9</th>\n",
       "      <td>Queen</td>\n",
       "      <td>Somebody To Love</td>\n",
       "      <td>Can anybody find me somebody to love  \\r\\nOoh,...</td>\n",
       "    </tr>\n",
       "  </tbody>\n",
       "</table>\n",
       "</div>"
      ],
      "text/plain": [
       "             artist                              song  \\\n",
       "0      Jimi Hendrix       Fire ( In Album Radio One )   \n",
       "1      Donna Summer                        I Love You   \n",
       "2          Westlife                  How Does It Feel   \n",
       "3  Gordon Lightfoot                   Ring Them Bells   \n",
       "4      Neil Diamond                 I'm Nobody's Fool   \n",
       "5                U2                             Lemon   \n",
       "6   Ella Fitzgerald  Chew Chew Chew (Your Bubble Gum)   \n",
       "7         Offspring                           No Hero   \n",
       "8            Zero 7                             Swing   \n",
       "9             Queen                  Somebody To Love   \n",
       "\n",
       "                                                text  \n",
       "0  Dj:  \\r\\n\"the jimi hendrix experience sounding...  \n",
       "1  From my once upon a time album  \\r\\nA song abo...  \n",
       "2  True lovers never take it slowly  \\r\\nWhen the...  \n",
       "3  Ring them bells ye heathen from the city that ...  \n",
       "4  I know your kind, you pick a girl (guy)  \\r\\nT...  \n",
       "5  See through in the sunlight  \\r\\nShe wore lemo...  \n",
       "6  If you're idle and lonesome too  \\r\\nDon't kno...  \n",
       "7  Once you said you'd stick to it until the end ...  \n",
       "8  Thought you'd be forever the same  \\r\\nWhen di...  \n",
       "9  Can anybody find me somebody to love  \\r\\nOoh,...  "
      ]
     },
     "execution_count": 11,
     "metadata": {},
     "output_type": "execute_result"
    }
   ],
   "source": [
    "df.head(10)"
   ]
  },
  {
   "cell_type": "code",
   "execution_count": 12,
   "id": "26a48796-31be-4c16-b64c-a0acf20a3f3f",
   "metadata": {},
   "outputs": [
    {
     "data": {
      "text/plain": [
       "'Dj:  \\r\\n\"the jimi hendrix experience sounding off again now,  \\r\\nWith one of jimi\\'s own called \\'fire\\'\"  \\r\\n  \\r\\nYou don\\'t care for me  \\r\\nI don\\'t care about that  \\r\\nGotta new fool  \\r\\nI like it like that  \\r\\n  \\r\\nI have only one burnin\\' desire  \\r\\nLet me stand next to your fire  \\r\\nLet me stand next to your fire  \\r\\nLet me stand baby  \\r\\nLet me stand next to your fire  \\r\\nOh, ley me stand  \\r\\nLet me stand next to your fire  \\r\\nYou got to let me stand  \\r\\nLet me stand next to your fire  \\r\\nOh shucks  \\r\\nYeah  \\r\\n  \\r\\nYou say your mom ain\\'t home, you can\\'t let me in  \\r\\nWell, I had to before I don\\'t need you again  \\r\\n  \\r\\nI have only one burnin\\' desire  \\r\\nLet me stand next to your fire  \\r\\nLet me stand next to your fire  \\r\\nYeah, let me stand baby  \\r\\nLet me stand next to your fire  \\r\\nOh, let my stand  \\r\\nLet me stand next to your fire  \\r\\nLet me stand  \\r\\nLet me stand next to your fire  \\r\\n  \\r\\nAh yeah move over rover  \\r\\nAnd let jimi take over  \\r\\nYeah you know wayt I\\'m talking \\'bout  \\r\\n  \\r\\nThat\\'s what I\\'m talking about  \\r\\nYou try to gimmie your money  \\r\\nYou better save it babe  \\r\\nSave it for your rainy day  \\r\\n  \\r\\nI have only one A burnin\\' desire  \\r\\nLet me stand next to your fire  \\r\\nLet me stand next to your fire  \\r\\nYeah let me stand  \\r\\nLet me stand next to your fire  \\r\\nOh, let me stand  \\r\\nLet me stand next to your fire  \\r\\nYou know what I\\'m talken about\\r\\n\\r\\n'"
      ]
     },
     "execution_count": 12,
     "metadata": {},
     "output_type": "execute_result"
    }
   ],
   "source": [
    "df['text'][0]"
   ]
  },
  {
   "cell_type": "code",
   "execution_count": 13,
   "id": "7b2e2f65-5f95-4b52-a1d1-d93f3f7c3bc4",
   "metadata": {},
   "outputs": [
    {
     "data": {
      "text/plain": [
       "(5000, 3)"
      ]
     },
     "execution_count": 13,
     "metadata": {},
     "output_type": "execute_result"
    }
   ],
   "source": [
    "df.shape"
   ]
  },
  {
   "cell_type": "markdown",
   "id": "e1dd1208-e6ed-4750-a0cc-f18a8f244b9c",
   "metadata": {},
   "source": [
    "Text Cleaning/ Text Preprocessing"
   ]
  },
  {
   "cell_type": "code",
   "execution_count": 14,
   "id": "254478ad-200a-4c57-aec0-fc963e8a997e",
   "metadata": {},
   "outputs": [],
   "source": [
    "df['text'] = df['text'].str.lower().replace(r'^\\w\\s', '').replace(r'\\n', ' ', regex = True)"
   ]
  },
  {
   "cell_type": "code",
   "execution_count": 15,
   "id": "937d990d-7d6d-4cb5-a30c-e19d4976ce94",
   "metadata": {},
   "outputs": [
    {
     "data": {
      "text/html": [
       "<div>\n",
       "<style scoped>\n",
       "    .dataframe tbody tr th:only-of-type {\n",
       "        vertical-align: middle;\n",
       "    }\n",
       "\n",
       "    .dataframe tbody tr th {\n",
       "        vertical-align: top;\n",
       "    }\n",
       "\n",
       "    .dataframe thead th {\n",
       "        text-align: right;\n",
       "    }\n",
       "</style>\n",
       "<table border=\"1\" class=\"dataframe\">\n",
       "  <thead>\n",
       "    <tr style=\"text-align: right;\">\n",
       "      <th></th>\n",
       "      <th>artist</th>\n",
       "      <th>song</th>\n",
       "      <th>text</th>\n",
       "    </tr>\n",
       "  </thead>\n",
       "  <tbody>\n",
       "    <tr>\n",
       "      <th>4995</th>\n",
       "      <td>Garth Brooks</td>\n",
       "      <td>Mom</td>\n",
       "      <td>a little baby told god,  \\r 'hey, i'm kinda sc...</td>\n",
       "    </tr>\n",
       "    <tr>\n",
       "      <th>4996</th>\n",
       "      <td>Bob Dylan</td>\n",
       "      <td>It Ain't Me, Babe</td>\n",
       "      <td>go 'way from my window  \\r leave at your own c...</td>\n",
       "    </tr>\n",
       "    <tr>\n",
       "      <th>4997</th>\n",
       "      <td>Depeche Mode</td>\n",
       "      <td>Nothing</td>\n",
       "      <td>sitting target  \\r sitting waiting  \\r anticip...</td>\n",
       "    </tr>\n",
       "    <tr>\n",
       "      <th>4998</th>\n",
       "      <td>Zeromancer</td>\n",
       "      <td>Dr. Online</td>\n",
       "      <td>everybody online?  \\r it's the beginning of th...</td>\n",
       "    </tr>\n",
       "    <tr>\n",
       "      <th>4999</th>\n",
       "      <td>Christina Aguilera</td>\n",
       "      <td>That's What Love Can Do</td>\n",
       "      <td>i wanted a lover  \\r to show me the way love g...</td>\n",
       "    </tr>\n",
       "  </tbody>\n",
       "</table>\n",
       "</div>"
      ],
      "text/plain": [
       "                  artist                     song  \\\n",
       "4995        Garth Brooks                      Mom   \n",
       "4996           Bob Dylan        It Ain't Me, Babe   \n",
       "4997        Depeche Mode                  Nothing   \n",
       "4998          Zeromancer               Dr. Online   \n",
       "4999  Christina Aguilera  That's What Love Can Do   \n",
       "\n",
       "                                                   text  \n",
       "4995  a little baby told god,  \\r 'hey, i'm kinda sc...  \n",
       "4996  go 'way from my window  \\r leave at your own c...  \n",
       "4997  sitting target  \\r sitting waiting  \\r anticip...  \n",
       "4998  everybody online?  \\r it's the beginning of th...  \n",
       "4999  i wanted a lover  \\r to show me the way love g...  "
      ]
     },
     "execution_count": 15,
     "metadata": {},
     "output_type": "execute_result"
    }
   ],
   "source": [
    "df.tail(5)"
   ]
  },
  {
   "cell_type": "code",
   "execution_count": 16,
   "id": "9f3c8786-a383-4083-93ca-cd85e25f3c68",
   "metadata": {},
   "outputs": [
    {
     "name": "stderr",
     "output_type": "stream",
     "text": [
      "[nltk_data] Downloading package punkt_tab to\n",
      "[nltk_data]     /Users/agnikdutta/nltk_data...\n",
      "[nltk_data]   Package punkt_tab is already up-to-date!\n"
     ]
    },
    {
     "data": {
      "text/plain": [
       "True"
      ]
     },
     "execution_count": 16,
     "metadata": {},
     "output_type": "execute_result"
    }
   ],
   "source": [
    "import nltk\n",
    "from nltk.stem.porter import PorterStemmer\n",
    "nltk.download('punkt_tab')"
   ]
  },
  {
   "cell_type": "code",
   "execution_count": 17,
   "id": "92668459-faa9-45a4-ac92-a8b94be1f013",
   "metadata": {},
   "outputs": [],
   "source": [
    "stemmer = PorterStemmer()"
   ]
  },
  {
   "cell_type": "code",
   "execution_count": 18,
   "id": "4c75f751-4dec-4930-b743-11c7b5b338ab",
   "metadata": {},
   "outputs": [],
   "source": [
    "def token(txt):\n",
    "    token = nltk.word_tokenize(txt)\n",
    "    a = [stemmer.stem(w) for w in token]\n",
    "    return \" \".join(a)"
   ]
  },
  {
   "cell_type": "code",
   "execution_count": 19,
   "id": "1998e83f-f3c1-4ddc-95af-bd049ea85798",
   "metadata": {},
   "outputs": [
    {
     "data": {
      "text/plain": [
       "'you are beauti , beauti'"
      ]
     },
     "execution_count": 19,
     "metadata": {},
     "output_type": "execute_result"
    }
   ],
   "source": [
    "token(\"you are beautiful, beauty\")"
   ]
  },
  {
   "cell_type": "code",
   "execution_count": 20,
   "id": "152bc3d4-6125-4cc5-af4c-d72c9a455621",
   "metadata": {},
   "outputs": [
    {
     "data": {
      "text/plain": [
       "0       dj : `` the jimi hendrix experi sound off agai...\n",
       "1       from my onc upon a time album a song about two...\n",
       "2       true lover never take it slowli when they 've ...\n",
       "3       ring them bell ye heathen from the citi that d...\n",
       "4       i know your kind , you pick a girl ( guy ) the...\n",
       "                              ...                        \n",
       "4995    a littl babi told god , 'hey , i 'm kinda scar...\n",
       "4996    go 'way from my window leav at your own chosen...\n",
       "4997    sit target sit wait anticip noth noth life is ...\n",
       "4998    everybodi onlin ? it 's the begin of the end y...\n",
       "4999    i want a lover to show me the way love goe to ...\n",
       "Name: text, Length: 5000, dtype: object"
      ]
     },
     "execution_count": 20,
     "metadata": {},
     "output_type": "execute_result"
    }
   ],
   "source": [
    " df['text'].apply(lambda x: token(x))"
   ]
  },
  {
   "cell_type": "code",
   "execution_count": 21,
   "id": "552763f7-8363-4371-bb93-a5766c543075",
   "metadata": {},
   "outputs": [],
   "source": [
    "from sklearn.feature_extraction.text import TfidfVectorizer\n",
    "from sklearn.metrics.pairwise import cosine_similarity"
   ]
  },
  {
   "cell_type": "code",
   "execution_count": 22,
   "id": "c9c7d35f-80aa-4aa0-b165-1b93f32dcfee",
   "metadata": {},
   "outputs": [],
   "source": [
    "tfid = TfidfVectorizer(analyzer='word', stop_words='english')"
   ]
  },
  {
   "cell_type": "code",
   "execution_count": 23,
   "id": "9bccf06f-622b-4854-b629-b3fa3d740300",
   "metadata": {},
   "outputs": [],
   "source": [
    "matrix = tfid.fit_transform(df['text'])"
   ]
  },
  {
   "cell_type": "code",
   "execution_count": 24,
   "id": "a6402d30-2494-4ed7-be52-c40b9db1c538",
   "metadata": {},
   "outputs": [],
   "source": [
    "similar = cosine_similarity(matrix)"
   ]
  },
  {
   "cell_type": "code",
   "execution_count": 25,
   "id": "6e3061f7-372f-48bc-9694-758870707ca7",
   "metadata": {},
   "outputs": [
    {
     "data": {
      "text/plain": [
       "array([1.        , 0.02387092, 0.03013803, ..., 0.0028391 , 0.00846778,\n",
       "       0.03831665])"
      ]
     },
     "execution_count": 25,
     "metadata": {},
     "output_type": "execute_result"
    }
   ],
   "source": [
    "similar[0]"
   ]
  },
  {
   "cell_type": "code",
   "execution_count": 26,
   "id": "0bb35b08-ae09-4f88-b7f2-fa14890d35e7",
   "metadata": {},
   "outputs": [
    {
     "data": {
      "text/plain": [
       "4995"
      ]
     },
     "execution_count": 26,
     "metadata": {},
     "output_type": "execute_result"
    }
   ],
   "source": [
    "df[df['song'] == 'Mom'].index[0]"
   ]
  },
  {
   "cell_type": "markdown",
   "id": "35153821-4d9a-4477-aa73-0c8439351ccc",
   "metadata": {},
   "source": [
    "Recommender Function"
   ]
  },
  {
   "cell_type": "code",
   "execution_count": 38,
   "id": "b31d9c3a-cef6-4f10-949a-31bc8f7edc26",
   "metadata": {},
   "outputs": [],
   "source": [
    "def recommender(song_name):\n",
    "    idx = df[df['song'] == song_name].index[0]\n",
    "    distance = sorted(list(enumerate(similar[idx])), reverse=True, key=lambda x: x[1])\n",
    "    song = []\n",
    "    for s_id in distance[1:21]:  # skipping 0 as it will be the same song\n",
    "        song.append(df.iloc[s_id[0]].song)\n",
    "    return song\n"
   ]
  },
  {
   "cell_type": "code",
   "execution_count": 47,
   "id": "bb048e11-d7ec-42b5-bfe1-0fdf92fc26e2",
   "metadata": {},
   "outputs": [
    {
     "data": {
      "text/plain": [
       "[\"I'll Be There\",\n",
       " \"Don't Think Twice, It's Alright\",\n",
       " 'My World Is Empty Without You',\n",
       " \"Don't Think Twice, It's All Right\",\n",
       " \"Daddy's Back\",\n",
       " 'I Never Cry',\n",
       " \"Ain't No Mountain High Enough\",\n",
       " 'Jelly Roll',\n",
       " 'One Fine Day',\n",
       " \"I Won't Cry For You\",\n",
       " 'No Fun',\n",
       " 'To Love Somebody',\n",
       " 'Give You My Lovin',\n",
       " 'I Think I Love You Too Much',\n",
       " 'Chivas',\n",
       " 'One Word',\n",
       " 'Badass',\n",
       " \"Good Lookin' Man\",\n",
       " 'Nothin On You',\n",
       " 'Come Closer To Me Babe']"
      ]
     },
     "execution_count": 47,
     "metadata": {},
     "output_type": "execute_result"
    }
   ],
   "source": [
    "recommender(\"It Ain't Me, Babe\")"
   ]
  },
  {
   "cell_type": "code",
   "execution_count": 48,
   "id": "3a29dbb9-a822-45f0-a827-b023453161a0",
   "metadata": {},
   "outputs": [],
   "source": [
    "import pickle\n",
    "pickle.dump(similar, open(\"similarity.pkl\", \"wb\"))\n",
    "pickle.dump(df, open(\"df.pkl\", \"wb\"))"
   ]
  },
  {
   "cell_type": "code",
   "execution_count": null,
   "id": "ab3ff531-4f92-409d-97ef-dbd4baabca52",
   "metadata": {},
   "outputs": [],
   "source": []
  }
 ],
 "metadata": {
  "kernelspec": {
   "display_name": "Python 3 (ipykernel)",
   "language": "python",
   "name": "python3"
  },
  "language_info": {
   "codemirror_mode": {
    "name": "ipython",
    "version": 3
   },
   "file_extension": ".py",
   "mimetype": "text/x-python",
   "name": "python",
   "nbconvert_exporter": "python",
   "pygments_lexer": "ipython3",
   "version": "3.12.2"
  }
 },
 "nbformat": 4,
 "nbformat_minor": 5
}
